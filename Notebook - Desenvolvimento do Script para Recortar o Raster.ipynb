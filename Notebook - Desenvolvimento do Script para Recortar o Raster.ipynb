{
 "cells": [
  {
   "cell_type": "code",
   "execution_count": 1,
   "metadata": {},
   "outputs": [],
   "source": [
    "import os\n",
    "import glob\n",
    "import fiona\n",
    "import shapely\n",
    "import rasterio\n",
    "import geopandas as gpd\n",
    "from rasterio.mask import mask\n",
    "from matplotlib import pyplot as plt"
   ]
  },
  {
   "cell_type": "code",
   "execution_count": 3,
   "metadata": {},
   "outputs": [],
   "source": [
    "path_tif = os.path.join(os.getcwd(),\"Reclass_Mapbiomas1985-APM_PROFLORA.tif\")\n",
    "path_shp = os.path.join(os.getcwd(),\"amp_modelo.shp\")"
   ]
  },
  {
   "cell_type": "code",
   "execution_count": 4,
   "metadata": {},
   "outputs": [],
   "source": [
    "def pegar_numero(string):\n",
    "    \"\"\" Pega o primeiro número da string, no caso o ano que está registrado no nome do arquivo raster.\n",
    "    Ex: Reclass_Mapbiomas1985-APM.tif -> 1985 \"\"\"\n",
    "    import re\n",
    "    return re.findall(r'\\d+',string)[0]"
   ]
  },
  {
   "cell_type": "code",
   "execution_count": 5,
   "metadata": {},
   "outputs": [
    {
     "data": {
      "text/plain": [
       "'1985'"
      ]
     },
     "execution_count": 5,
     "metadata": {},
     "output_type": "execute_result"
    }
   ],
   "source": [
    "pegar_numero(path_tif)"
   ]
  },
  {
   "cell_type": "code",
   "execution_count": 6,
   "metadata": {},
   "outputs": [],
   "source": [
    "if os.path.isfile(path_shp) == True:\n",
    "    #read shapefile\n",
    "    gdf = gpd.read_file(path_shp)\n",
    "else:\n",
    "    print(\"ARQUIVO NÃO ENCONTRADO!!!\")\n"
   ]
  },
  {
   "cell_type": "code",
   "execution_count": 7,
   "metadata": {},
   "outputs": [],
   "source": [
    "def crair_pasta(nome):\n",
    "    try:\n",
    "        return os.mkdir(nome)\n",
    "    except OSError as error:\n",
    "        print(error)"
   ]
  },
  {
   "cell_type": "code",
   "execution_count": null,
   "metadata": {},
   "outputs": [],
   "source": [
    "if os.path.isfile(path_tif) == True:\n",
    "    with rasterio.open(path_tif) as src:\n",
    "        plt.imshow(src.read(1))\n",
    "        plt.show()\n",
    "\n",
    "else:\n",
    "    print(\"ARQUIVO NÃO ENCONTRADO!!!\")\n"
   ]
  },
  {
   "cell_type": "code",
   "execution_count": 8,
   "metadata": {},
   "outputs": [
    {
     "name": "stdout",
     "output_type": "stream",
     "text": [
      "APM - SÃO BARTOLOMEU (Parte Norte)\\APM - SÃO BARTOLOMEU (Parte Norte)_1985.tif\n",
      "APM - TORTO\\APM - TORTO_1985.tif\n",
      "APM - CONTAGEM\\APM - CONTAGEM_1985.tif\n",
      "APM - PARANOAZINHO\\APM - PARANOAZINHO_1985.tif\n",
      "APM - PONTE DE TERRA\\APM - PONTE DE TERRA_1985.tif\n",
      "APM - PIPIRIPAU\\APM - PIPIRIPAU_1985.tif\n",
      "APM - CRISPIM\\APM - CRISPIM_1985.tif\n",
      "APM - BARROCÃO\\APM - BARROCÃO_1985.tif\n",
      "APM - CAPÃO DA ONCA\\APM - CAPÃO DA ONCA_1985.tif\n",
      "APM - TAQUARI\\APM - TAQUARI_1985.tif\n",
      "APM - CORGUINHO\\APM - CORGUINHO_1985.tif\n",
      "APM - QUINZE\\APM - QUINZE_1985.tif\n",
      "APM - FUMAL\\APM - FUMAL_1985.tif\n",
      "APM - BREJINHO\\APM - BREJINHO_1985.tif\n",
      "APM - SÃO BARTOLOMEU (Parte Sul)\\APM - SÃO BARTOLOMEU (Parte Sul)_1985.tif\n",
      "APM - MESTRE D´ARMAS\\APM - MESTRE D´ARMAS_1985.tif\n",
      "APM - CACHOEIRINHA\\APM - CACHOEIRINHA_1985.tif\n",
      "APM - BANANAL\\APM - BANANAL_1985.tif\n",
      "APM - CURRAIS\\APM - CURRAIS_1985.tif\n",
      "APM - ALAGADO\\APM - ALAGADO_1985.tif\n",
      "APM - ENGENHO DAS LAGES\\APM - ENGENHO DAS LAGES_1985.tif\n",
      "APM - CABEÇA DE VEADO\\APM - CABEÇA DE VEADO_1985.tif\n",
      "APM - SANTA MARIA\\APM - SANTA MARIA_1985.tif\n",
      "APM - PEDRAS\\APM - PEDRAS_1985.tif\n",
      "APM - OLHO D`AGUA\\APM - OLHO D`AGUA_1985.tif\n",
      "APM - RIBEIRÃO DO GAMA\\APM - RIBEIRÃO DO GAMA_1985.tif\n"
     ]
    }
   ],
   "source": [
    "for i in range(len(gdf)):\n",
    "    geom = []\n",
    "    coord = shapely.geometry.mapping(gdf)[\"features\"][i][\"geometry\"]\n",
    "    geom.append(coord)\n",
    "    nome = gdf.loc[i]['nome']\n",
    "    crair_pasta(nome)\n",
    "    ano = pegar_numero(path_tif)\n",
    "\n",
    "    if os.path.isfile(path_tif) == True:\n",
    "        with rasterio.open(path_tif) as src:\n",
    "            out_image, out_transform = mask(src, geom, crop=True)\n",
    "            out_meta = src.meta\n",
    "            out_meta.update({'driver':'GTiff',\n",
    "                'height':out_image.shape[1],\n",
    "                'width':out_image.shape[2],\n",
    "                'transform':out_transform})\n",
    "            out_tif = os.path.join(nome,f\"{nome}_{ano}.tif\")\n",
    "            print(out_tif)\n",
    "        with rasterio.open(out_tif, \"w\", **out_meta) as dest:\n",
    "            dest.write(out_image)\n",
    "            \n",
    "    else:\n",
    "        print(\"ARQUIVO NÃO ENCONTRADO!!!\")\n",
    "\n",
    "    \n",
    "    "
   ]
  }
 ],
 "metadata": {
  "kernelspec": {
   "display_name": "geo_py39",
   "language": "python",
   "name": "python3"
  },
  "language_info": {
   "codemirror_mode": {
    "name": "ipython",
    "version": 3
   },
   "file_extension": ".py",
   "mimetype": "text/x-python",
   "name": "python",
   "nbconvert_exporter": "python",
   "pygments_lexer": "ipython3",
   "version": "3.9.16"
  },
  "orig_nbformat": 4
 },
 "nbformat": 4,
 "nbformat_minor": 2
}
